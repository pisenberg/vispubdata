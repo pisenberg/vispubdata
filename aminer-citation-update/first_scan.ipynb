{
 "cells": [
  {
   "cell_type": "markdown",
   "metadata": {},
   "source": [
    "# Matching citation counts from Aminer v14\n",
    "\n",
    "Author: Natkamon Tovanich\n",
    "Last Update: 06/06/2024\n",
    "\n",
    "**Instructions**\n",
    "1. Run first_scan.ipynb to match the paper title and/or DOI with Aminer\n",
    "2. Run second_scan.py to find the potential match papers from string distance function\n",
    "3. Manually select the match papers from the second scan in candidate_papers.csv\n",
    "4. Run merge_data.ipynb to match the result from the first (exact title or DOI match) and second scan (string distance candidates).\n",
    "5. The result is available at vispubdata_citation.csv.\n",
    "\n",
    "### First scan: match by DOI or exact title"
   ]
  },
  {
   "cell_type": "code",
   "execution_count": null,
   "metadata": {},
   "outputs": [],
   "source": [
    "import pandas as pd\n",
    "import json\n",
    "import re\n",
    "import pickle"
   ]
  },
  {
   "cell_type": "markdown",
   "metadata": {},
   "source": [
    "Load the dataset"
   ]
  },
  {
   "cell_type": "code",
   "execution_count": null,
   "metadata": {},
   "outputs": [],
   "source": [
    "df = pd.read_csv(\"../vispubdata-update/vispubdata-update.csv\", keep_default_na=False)\n",
    "df"
   ]
  },
  {
   "cell_type": "markdown",
   "metadata": {},
   "source": [
    "Convert title to lower case"
   ]
  },
  {
   "cell_type": "code",
   "execution_count": null,
   "metadata": {},
   "outputs": [],
   "source": [
    "df[\"title\"] = df[\"Title\"].apply(lambda x: re.sub(r'[^\\w]', '', str(x).lower()))\n",
    "df[\"doi\"] = df[\"DOI\"].apply(lambda x: str(x).lower())"
   ]
  },
  {
   "cell_type": "markdown",
   "metadata": {},
   "source": [
    "Convert to dictionary for the faster check"
   ]
  },
  {
   "cell_type": "code",
   "execution_count": null,
   "metadata": {},
   "outputs": [],
   "source": [
    "titles = df.set_index('title')['DOI'].to_dict()\n",
    "dois = df.set_index('doi')['DOI'].to_dict()"
   ]
  },
  {
   "cell_type": "markdown",
   "metadata": {},
   "source": [
    "Read AMiner v14 dataset line by line and check if the title is matched."
   ]
  },
  {
   "cell_type": "code",
   "execution_count": null,
   "metadata": {},
   "outputs": [],
   "source": [
    "%%time\n",
    "count, match_doi, match_title = 0, 0, 0\n",
    "m, l, choices = list(), dict(), dict()\n",
    "with open(\"dblp_v14.json\", encoding=\"utf8\") as infile:\n",
    "    for line in infile:\n",
    "        line = line.strip().strip(',').strip(\"]'\")\n",
    "        if line[0] != '{':\n",
    "            continue\n",
    "        paper = json.loads(line)\n",
    "        lower = re.sub(r'[^\\w]', '', str(paper['title']).lower())\n",
    "        \n",
    "        # Add all papers title to check for missing match\n",
    "        choices[paper['title'].lower()] = paper['id']\n",
    "        \n",
    "        # First, try to match by paper DOI\n",
    "        if \"doi\" in paper and str(paper[\"doi\"]).lower() in dois:\n",
    "            m.append([dois[str(paper[\"doi\"]).lower()], paper['id'], 'doi'])\n",
    "            l[paper['id']] = paper\n",
    "            match_doi += 1\n",
    "        \n",
    "        # Match by the exact title\n",
    "        elif lower in titles:\n",
    "            m.append([titles[lower], paper['id'], 'title'])\n",
    "            l[paper['id']] = paper\n",
    "            match_title += 1\n",
    "            \n",
    "        count += 1 \n",
    "        if (count % 1000000 == 0):\n",
    "            print(count, match_doi, match_title)\n",
    "    print(count, match_doi, match_title)"
   ]
  },
  {
   "cell_type": "code",
   "execution_count": null,
   "metadata": {},
   "outputs": [],
   "source": [
    "m = pd.DataFrame(m, columns=['vispub_doi', 'aminer_id', 'method'])\n",
    "m.to_csv('results/exact_matching.csv', index=False)"
   ]
  },
  {
   "cell_type": "code",
   "execution_count": null,
   "metadata": {},
   "outputs": [],
   "source": [
    "with open('results/aminer_titles.p', 'wb') as fp:\n",
    "    pickle.dump(choices, fp, protocol=pickle.HIGHEST_PROTOCOL)"
   ]
  }
 ],
 "metadata": {
  "kernelspec": {
   "display_name": "Python 3 (ipykernel)",
   "language": "python",
   "name": "python3"
  },
  "language_info": {
   "codemirror_mode": {
    "name": "ipython",
    "version": 3
   },
   "file_extension": ".py",
   "mimetype": "text/x-python",
   "name": "python",
   "nbconvert_exporter": "python",
   "pygments_lexer": "ipython3",
   "version": "3.9.16"
  }
 },
 "nbformat": 4,
 "nbformat_minor": 4
}
