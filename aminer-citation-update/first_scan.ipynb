{
 "cells": [
  {
   "cell_type": "markdown",
   "metadata": {},
   "source": [
    "# Matching citation counts from Aminer v14\n",
    "\n",
    "Author: Natkamon Tovanich\n",
    "Last Update: 06/06/2024\n",
    "\n",
    "**Instructions**\n",
    "- Run first_scan.ipynb to match the paper title and/or DOI with Aminer\n",
    "- Run second_scan.py to find the potential match papers from string distance function\n",
    "- Manually select the match papers from the second scan in candidate_papers.csv\n",
    "    - To do so, we usually sort by papers matching score. > 80 is good. Below you can most likely discard. Check if two titles are similar. \n",
    "    - Delete rows of titles that do not look similar\n",
    "    - Save the file\n",
    "4. Run merge_data.ipynb to match the result from the first (exact title or DOI match) and second scan (string distance candidates).\n",
    "5. The result is available at vispubdata_citation.csv.\n",
    "\n",
    "### First scan: match by DOI or exact title"
   ]
  },
  {
   "cell_type": "code",
   "execution_count": 1,
   "metadata": {},
   "outputs": [],
   "source": [
    "import pandas as pd\n",
    "import json\n",
    "import re\n",
    "import pickle"
   ]
  },
  {
   "cell_type": "markdown",
   "metadata": {},
   "source": [
    "Load the datasets\n",
    "\n",
    "At the moment you have to switch datasets manually here. We need to fix this later so it runs through both automatically."
   ]
  },
  {
   "cell_type": "code",
   "execution_count": 3,
   "metadata": {},
   "outputs": [],
   "source": [
    "datasets = ['./vispubdata-update/results/vispubdata-update.csv',\n",
    "            './vispubdata-update/results/vispubdata-update-journals.csv']\n",
    "appendices = ['vis-papers','journal-papers']\n",
    "\n",
    "datasets_dfs = []\n",
    "\n",
    "for dataset in datasets:\n",
    "    df = pd.read_csv(dataset, keep_default_na=False)\n",
    "    datasets_dfs.append(df)\n",
    "    \n"
   ]
  },
  {
   "cell_type": "markdown",
   "metadata": {},
   "source": [
    "Convert title to lower case"
   ]
  },
  {
   "cell_type": "code",
   "execution_count": 4,
   "metadata": {},
   "outputs": [],
   "source": [
    "for df in datasets_dfs:\n",
    "    df[\"title\"] = df[\"Title\"].apply(lambda x: re.sub(r'[^\\w]', '', str(x).lower()))\n",
    "    df[\"doi\"] = df[\"DOI\"].apply(lambda x: str(x).lower())"
   ]
  },
  {
   "cell_type": "markdown",
   "metadata": {},
   "source": [
    "Read AMiner v14 dataset line by line and check if the title is matched."
   ]
  },
  {
   "cell_type": "code",
   "execution_count": 7,
   "metadata": {},
   "outputs": [
    {
     "name": "stdout",
     "output_type": "stream",
     "text": [
      "CPU times: total: 0 ns\n",
      "Wall time: 0 ns\n"
     ]
    }
   ],
   "source": [
    "%%time\n",
    "def checkTitleMatch(titles,dois):\n",
    "    \n",
    "    count, match_doi, match_title = 0, 0, 0\n",
    "    m, l, choices = list(), dict(), dict()\n",
    "    with open(\"./aminer-citation-update/data/dblp_v14.json\", encoding=\"utf8\") as infile:\n",
    "        for line in infile:\n",
    "            line = line.strip().strip(',').strip(\"]'\")\n",
    "            if line[0] != '{':\n",
    "                continue\n",
    "            paper = json.loads(line)\n",
    "            lower = re.sub(r'[^\\w]', '', str(paper['title']).lower())\n",
    "            \n",
    "            # Add all papers title to check for missing match\n",
    "            choices[paper['title'].lower()] = paper['id']\n",
    "            \n",
    "            # First, try to match by paper DOI\n",
    "            if \"doi\" in paper and str(paper[\"doi\"]).lower() in dois:\n",
    "                m.append([dois[str(paper[\"doi\"]).lower()], paper['id'], 'doi'])\n",
    "                l[paper['id']] = paper\n",
    "                match_doi += 1\n",
    "            \n",
    "            # Match by the exact title\n",
    "            elif lower in titles:\n",
    "                m.append([titles[lower], paper['id'], 'title'])\n",
    "                l[paper['id']] = paper\n",
    "                match_title += 1\n",
    "                \n",
    "            count += 1 \n",
    "            if (count % 1000000 == 0):\n",
    "                print(count, match_doi, match_title)\n",
    "        print(count, match_doi, match_title)\n",
    "    return m,choices"
   ]
  },
  {
   "cell_type": "markdown",
   "metadata": {},
   "source": [
    "Convert to dictionary for the faster check"
   ]
  },
  {
   "cell_type": "code",
   "execution_count": 11,
   "metadata": {},
   "outputs": [],
   "source": [
    "index = 0\n",
    "for df in datasets_dfs:\n",
    "    titles = df.set_index('title')['DOI'].to_dict()\n",
    "    dois = df.set_index('doi')['DOI'].to_dict()\n",
    "    result = checkTitleMatch(titles,dois)\n",
    "    m = pd.DataFrame(result[0], columns=['vispub_doi', 'aminer_id', 'method'])\n",
    "    m.to_csv('./aminer-citation-update/results/exact_matching'+appendices[index]+\".csv\", index=False)\n",
    "\n",
    "    with open('./aminer-citation-update/results/aminer_titles'+appendices[index]+\".p\", 'wb') as fp:\n",
    "        pickle.dump(result[1], fp, protocol=pickle.HIGHEST_PROTOCOL)\n",
    "        print(\"Wrote File: \" + str(index))\n",
    "    \n",
    "    index = index + 1"
   ]
  },
  {
   "cell_type": "code",
   "execution_count": null,
   "metadata": {},
   "outputs": [],
   "source": []
  },
  {
   "cell_type": "code",
   "execution_count": null,
   "metadata": {},
   "outputs": [],
   "source": []
  }
 ],
 "metadata": {
  "kernelspec": {
   "display_name": "Python 3 (ipykernel)",
   "language": "python",
   "name": "python3"
  },
  "language_info": {
   "codemirror_mode": {
    "name": "ipython",
    "version": 3
   },
   "file_extension": ".py",
   "mimetype": "text/x-python",
   "name": "python",
   "nbconvert_exporter": "python",
   "pygments_lexer": "ipython3",
   "version": "3.9.16"
  }
 },
 "nbformat": 4,
 "nbformat_minor": 4
}
